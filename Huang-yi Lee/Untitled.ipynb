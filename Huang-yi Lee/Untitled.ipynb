{
 "cells": [
  {
   "cell_type": "markdown",
   "id": "2b56fa11",
   "metadata": {},
   "source": [
    "## Deep Learning for Human Language Processiong"
   ]
  },
  {
   "cell_type": "markdown",
   "id": "ebe9bc2c",
   "metadata": {},
   "source": []
  }
 ],
 "metadata": {
  "kernelspec": {
   "display_name": "Python 3",
   "language": "python",
   "name": "python3"
  },
  "language_info": {
   "codemirror_mode": {
    "name": "ipython",
    "version": 3
   },
   "file_extension": ".py",
   "mimetype": "text/x-python",
   "name": "python",
   "nbconvert_exporter": "python",
   "pygments_lexer": "ipython3",
   "version": "3.8.8"
  }
 },
 "nbformat": 4,
 "nbformat_minor": 5
}

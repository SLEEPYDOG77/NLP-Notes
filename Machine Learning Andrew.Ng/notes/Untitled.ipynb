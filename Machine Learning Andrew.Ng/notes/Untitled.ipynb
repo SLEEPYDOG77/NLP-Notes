{
 "cells": [
  {
   "cell_type": "code",
   "execution_count": null,
   "id": "e9e58953",
   "metadata": {},
   "outputs": [],
   "source": [
    "5+6"
   ]
  },
  {
   "cell_type": "code",
   "execution_count": null,
   "id": "6f9a8348",
   "metadata": {},
   "outputs": [],
   "source": []
  },
  {
   "cell_type": "code",
   "execution_count": null,
   "id": "04cd978b",
   "metadata": {},
   "outputs": [],
   "source": []
  }
 ],
 "metadata": {
  "kernelspec": {
   "display_name": "Octave",
   "language": "octave",
   "name": "octave"
  }
 },
 "nbformat": 4,
 "nbformat_minor": 5
}
